{
  "cells": [
    {
      "cell_type": "code",
      "execution_count": 2,
      "metadata": {
        "id": "hbkG13niAfAy"
      },
      "outputs": [],
      "source": [
        "from sklearn.model_selection import train_test_split, cross_val_score\n",
        "from sklearn.ensemble import StackingClassifier, AdaBoostClassifier, VotingClassifier\n",
        "from sklearn.linear_model import LogisticRegression\n",
        "import xgboost as xgb\n",
        "from sklearn.neighbors import KNeighborsClassifier\n",
        "from sklearn.naive_bayes import GaussianNB\n",
        "from sklearn.svm import SVC\n",
        "from sklearn.model_selection import GridSearchCV\n",
        "from sklearn.model_selection import RandomizedSearchCV\n",
        "from sklearn.preprocessing import StandardScaler\n",
        "from sklearn.metrics import classification_report, accuracy_score, precision_score, recall_score, f1_score\n",
        "import pandas as pd\n",
        "import numpy as np\n",
        "import matplotlib.pyplot as plt\n",
        "import seaborn as sns\n",
        "from sklearn.ensemble import RandomForestClassifier\n",
        "from sklearn.metrics import classification_report, accuracy_score, precision_score, recall_score, f1_score, confusion_matrix\n",
        "\n",
        "# Load datasets\n",
        "df = pd.read_csv('medical_data.csv')\n",
        "#df2 = pd.read_csv('train_dataset.csv')\n"
      ]
    },
    {
      "cell_type": "markdown",
      "metadata": {
        "id": "F_UsLoWNA6dr"
      },
      "source": [
        "#### Deleting the duplicated rows"
      ]
    },
    {
      "cell_type": "code",
      "execution_count": 3,
      "metadata": {
        "colab": {
          "base_uri": "https://localhost:8080/",
          "height": 443
        },
        "id": "E_W1e-s3A8Al",
        "outputId": "1fc5987f-a595-4d69-b5f6-8b5de27d12a3"
      },
      "outputs": [
        {
          "data": {
            "text/html": [
              "<div>\n",
              "<style scoped>\n",
              "    .dataframe tbody tr th:only-of-type {\n",
              "        vertical-align: middle;\n",
              "    }\n",
              "\n",
              "    .dataframe tbody tr th {\n",
              "        vertical-align: top;\n",
              "    }\n",
              "\n",
              "    .dataframe thead th {\n",
              "        text-align: right;\n",
              "    }\n",
              "</style>\n",
              "<table border=\"1\" class=\"dataframe\">\n",
              "  <thead>\n",
              "    <tr style=\"text-align: right;\">\n",
              "      <th></th>\n",
              "      <th>Patient_Number</th>\n",
              "      <th>Level_of_Hemoglobin</th>\n",
              "      <th>Genetic_Pedigree_Coefficient</th>\n",
              "      <th>Age</th>\n",
              "      <th>BMI</th>\n",
              "      <th>Sex</th>\n",
              "      <th>Pregnancy</th>\n",
              "      <th>Smoking</th>\n",
              "      <th>Physical_activity</th>\n",
              "      <th>salt_content_in_the_diet</th>\n",
              "      <th>alcohol_consumption_per_day</th>\n",
              "      <th>Level_of_Stress</th>\n",
              "      <th>Chronic_kidney_disease</th>\n",
              "      <th>Adrenal_and_thyroid_disorders</th>\n",
              "      <th>Blood_Pressure_Abnormality</th>\n",
              "    </tr>\n",
              "  </thead>\n",
              "  <tbody>\n",
              "    <tr>\n",
              "      <th>0</th>\n",
              "      <td>1</td>\n",
              "      <td>11.28</td>\n",
              "      <td>0.90</td>\n",
              "      <td>34</td>\n",
              "      <td>23</td>\n",
              "      <td>1</td>\n",
              "      <td>1.0</td>\n",
              "      <td>0</td>\n",
              "      <td>45961</td>\n",
              "      <td>48071</td>\n",
              "      <td>NaN</td>\n",
              "      <td>2</td>\n",
              "      <td>1</td>\n",
              "      <td>1</td>\n",
              "      <td>1</td>\n",
              "    </tr>\n",
              "    <tr>\n",
              "      <th>1</th>\n",
              "      <td>2</td>\n",
              "      <td>9.75</td>\n",
              "      <td>0.23</td>\n",
              "      <td>54</td>\n",
              "      <td>33</td>\n",
              "      <td>1</td>\n",
              "      <td>NaN</td>\n",
              "      <td>0</td>\n",
              "      <td>26106</td>\n",
              "      <td>25333</td>\n",
              "      <td>205.0</td>\n",
              "      <td>3</td>\n",
              "      <td>0</td>\n",
              "      <td>0</td>\n",
              "      <td>0</td>\n",
              "    </tr>\n",
              "    <tr>\n",
              "      <th>2</th>\n",
              "      <td>3</td>\n",
              "      <td>10.79</td>\n",
              "      <td>0.91</td>\n",
              "      <td>70</td>\n",
              "      <td>49</td>\n",
              "      <td>0</td>\n",
              "      <td>NaN</td>\n",
              "      <td>0</td>\n",
              "      <td>9995</td>\n",
              "      <td>29465</td>\n",
              "      <td>67.0</td>\n",
              "      <td>2</td>\n",
              "      <td>1</td>\n",
              "      <td>0</td>\n",
              "      <td>1</td>\n",
              "    </tr>\n",
              "    <tr>\n",
              "      <th>3</th>\n",
              "      <td>4</td>\n",
              "      <td>11.00</td>\n",
              "      <td>0.43</td>\n",
              "      <td>71</td>\n",
              "      <td>50</td>\n",
              "      <td>0</td>\n",
              "      <td>NaN</td>\n",
              "      <td>0</td>\n",
              "      <td>10635</td>\n",
              "      <td>7439</td>\n",
              "      <td>242.0</td>\n",
              "      <td>1</td>\n",
              "      <td>1</td>\n",
              "      <td>0</td>\n",
              "      <td>0</td>\n",
              "    </tr>\n",
              "    <tr>\n",
              "      <th>4</th>\n",
              "      <td>5</td>\n",
              "      <td>14.17</td>\n",
              "      <td>0.83</td>\n",
              "      <td>52</td>\n",
              "      <td>19</td>\n",
              "      <td>0</td>\n",
              "      <td>NaN</td>\n",
              "      <td>0</td>\n",
              "      <td>15619</td>\n",
              "      <td>49644</td>\n",
              "      <td>397.0</td>\n",
              "      <td>2</td>\n",
              "      <td>0</td>\n",
              "      <td>0</td>\n",
              "      <td>1</td>\n",
              "    </tr>\n",
              "    <tr>\n",
              "      <th>...</th>\n",
              "      <td>...</td>\n",
              "      <td>...</td>\n",
              "      <td>...</td>\n",
              "      <td>...</td>\n",
              "      <td>...</td>\n",
              "      <td>...</td>\n",
              "      <td>...</td>\n",
              "      <td>...</td>\n",
              "      <td>...</td>\n",
              "      <td>...</td>\n",
              "      <td>...</td>\n",
              "      <td>...</td>\n",
              "      <td>...</td>\n",
              "      <td>...</td>\n",
              "      <td>...</td>\n",
              "    </tr>\n",
              "    <tr>\n",
              "      <th>1995</th>\n",
              "      <td>1996</td>\n",
              "      <td>10.14</td>\n",
              "      <td>0.02</td>\n",
              "      <td>69</td>\n",
              "      <td>26</td>\n",
              "      <td>1</td>\n",
              "      <td>NaN</td>\n",
              "      <td>1</td>\n",
              "      <td>26118</td>\n",
              "      <td>47568</td>\n",
              "      <td>144.0</td>\n",
              "      <td>3</td>\n",
              "      <td>1</td>\n",
              "      <td>0</td>\n",
              "      <td>1</td>\n",
              "    </tr>\n",
              "    <tr>\n",
              "      <th>1996</th>\n",
              "      <td>1997</td>\n",
              "      <td>11.77</td>\n",
              "      <td>1.00</td>\n",
              "      <td>24</td>\n",
              "      <td>45</td>\n",
              "      <td>1</td>\n",
              "      <td>1.0</td>\n",
              "      <td>1</td>\n",
              "      <td>2572</td>\n",
              "      <td>8063</td>\n",
              "      <td>NaN</td>\n",
              "      <td>3</td>\n",
              "      <td>1</td>\n",
              "      <td>1</td>\n",
              "      <td>1</td>\n",
              "    </tr>\n",
              "    <tr>\n",
              "      <th>1997</th>\n",
              "      <td>1998</td>\n",
              "      <td>16.91</td>\n",
              "      <td>0.22</td>\n",
              "      <td>18</td>\n",
              "      <td>42</td>\n",
              "      <td>0</td>\n",
              "      <td>NaN</td>\n",
              "      <td>0</td>\n",
              "      <td>14933</td>\n",
              "      <td>24753</td>\n",
              "      <td>NaN</td>\n",
              "      <td>2</td>\n",
              "      <td>1</td>\n",
              "      <td>1</td>\n",
              "      <td>1</td>\n",
              "    </tr>\n",
              "    <tr>\n",
              "      <th>1998</th>\n",
              "      <td>1999</td>\n",
              "      <td>11.15</td>\n",
              "      <td>0.72</td>\n",
              "      <td>46</td>\n",
              "      <td>45</td>\n",
              "      <td>1</td>\n",
              "      <td>NaN</td>\n",
              "      <td>1</td>\n",
              "      <td>18157</td>\n",
              "      <td>15275</td>\n",
              "      <td>253.0</td>\n",
              "      <td>3</td>\n",
              "      <td>0</td>\n",
              "      <td>1</td>\n",
              "      <td>0</td>\n",
              "    </tr>\n",
              "    <tr>\n",
              "      <th>1999</th>\n",
              "      <td>2000</td>\n",
              "      <td>11.36</td>\n",
              "      <td>0.09</td>\n",
              "      <td>41</td>\n",
              "      <td>45</td>\n",
              "      <td>0</td>\n",
              "      <td>NaN</td>\n",
              "      <td>0</td>\n",
              "      <td>20729</td>\n",
              "      <td>30463</td>\n",
              "      <td>230.0</td>\n",
              "      <td>1</td>\n",
              "      <td>1</td>\n",
              "      <td>0</td>\n",
              "      <td>1</td>\n",
              "    </tr>\n",
              "  </tbody>\n",
              "</table>\n",
              "<p>2000 rows × 15 columns</p>\n",
              "</div>"
            ],
            "text/plain": [
              "      Patient_Number  Level_of_Hemoglobin  Genetic_Pedigree_Coefficient  Age  \\\n",
              "0                  1                11.28                          0.90   34   \n",
              "1                  2                 9.75                          0.23   54   \n",
              "2                  3                10.79                          0.91   70   \n",
              "3                  4                11.00                          0.43   71   \n",
              "4                  5                14.17                          0.83   52   \n",
              "...              ...                  ...                           ...  ...   \n",
              "1995            1996                10.14                          0.02   69   \n",
              "1996            1997                11.77                          1.00   24   \n",
              "1997            1998                16.91                          0.22   18   \n",
              "1998            1999                11.15                          0.72   46   \n",
              "1999            2000                11.36                          0.09   41   \n",
              "\n",
              "      BMI  Sex  Pregnancy  Smoking  Physical_activity  \\\n",
              "0      23    1        1.0        0              45961   \n",
              "1      33    1        NaN        0              26106   \n",
              "2      49    0        NaN        0               9995   \n",
              "3      50    0        NaN        0              10635   \n",
              "4      19    0        NaN        0              15619   \n",
              "...   ...  ...        ...      ...                ...   \n",
              "1995   26    1        NaN        1              26118   \n",
              "1996   45    1        1.0        1               2572   \n",
              "1997   42    0        NaN        0              14933   \n",
              "1998   45    1        NaN        1              18157   \n",
              "1999   45    0        NaN        0              20729   \n",
              "\n",
              "      salt_content_in_the_diet  alcohol_consumption_per_day  Level_of_Stress  \\\n",
              "0                        48071                          NaN                2   \n",
              "1                        25333                        205.0                3   \n",
              "2                        29465                         67.0                2   \n",
              "3                         7439                        242.0                1   \n",
              "4                        49644                        397.0                2   \n",
              "...                        ...                          ...              ...   \n",
              "1995                     47568                        144.0                3   \n",
              "1996                      8063                          NaN                3   \n",
              "1997                     24753                          NaN                2   \n",
              "1998                     15275                        253.0                3   \n",
              "1999                     30463                        230.0                1   \n",
              "\n",
              "      Chronic_kidney_disease  Adrenal_and_thyroid_disorders  \\\n",
              "0                          1                              1   \n",
              "1                          0                              0   \n",
              "2                          1                              0   \n",
              "3                          1                              0   \n",
              "4                          0                              0   \n",
              "...                      ...                            ...   \n",
              "1995                       1                              0   \n",
              "1996                       1                              1   \n",
              "1997                       1                              1   \n",
              "1998                       0                              1   \n",
              "1999                       1                              0   \n",
              "\n",
              "      Blood_Pressure_Abnormality  \n",
              "0                              1  \n",
              "1                              0  \n",
              "2                              1  \n",
              "3                              0  \n",
              "4                              1  \n",
              "...                          ...  \n",
              "1995                           1  \n",
              "1996                           1  \n",
              "1997                           1  \n",
              "1998                           0  \n",
              "1999                           1  \n",
              "\n",
              "[2000 rows x 15 columns]"
            ]
          },
          "execution_count": 3,
          "metadata": {},
          "output_type": "execute_result"
        }
      ],
      "source": [
        "df.drop_duplicates() # there is more 1000 duplicated row"
      ]
    },
    {
      "cell_type": "markdown",
      "metadata": {
        "id": "P2MK7yUKBDSn"
      },
      "source": [
        "## **Handling Missing Values**"
      ]
    },
    {
      "cell_type": "code",
      "execution_count": 4,
      "metadata": {
        "colab": {
          "base_uri": "https://localhost:8080/",
          "height": 226
        },
        "id": "gJ9NotmlbSrI",
        "outputId": "ffa725f7-6279-46ba-efd8-297b7a5f19f3"
      },
      "outputs": [
        {
          "data": {
            "text/html": [
              "<div>\n",
              "<style scoped>\n",
              "    .dataframe tbody tr th:only-of-type {\n",
              "        vertical-align: middle;\n",
              "    }\n",
              "\n",
              "    .dataframe tbody tr th {\n",
              "        vertical-align: top;\n",
              "    }\n",
              "\n",
              "    .dataframe thead th {\n",
              "        text-align: right;\n",
              "    }\n",
              "</style>\n",
              "<table border=\"1\" class=\"dataframe\">\n",
              "  <thead>\n",
              "    <tr style=\"text-align: right;\">\n",
              "      <th></th>\n",
              "      <th>Patient_Number</th>\n",
              "      <th>Level_of_Hemoglobin</th>\n",
              "      <th>Genetic_Pedigree_Coefficient</th>\n",
              "      <th>Age</th>\n",
              "      <th>BMI</th>\n",
              "      <th>Sex</th>\n",
              "      <th>Pregnancy</th>\n",
              "      <th>Smoking</th>\n",
              "      <th>Physical_activity</th>\n",
              "      <th>salt_content_in_the_diet</th>\n",
              "      <th>alcohol_consumption_per_day</th>\n",
              "      <th>Level_of_Stress</th>\n",
              "      <th>Chronic_kidney_disease</th>\n",
              "      <th>Adrenal_and_thyroid_disorders</th>\n",
              "      <th>Blood_Pressure_Abnormality</th>\n",
              "    </tr>\n",
              "  </thead>\n",
              "  <tbody>\n",
              "    <tr>\n",
              "      <th>0</th>\n",
              "      <td>1</td>\n",
              "      <td>11.28</td>\n",
              "      <td>0.90</td>\n",
              "      <td>34</td>\n",
              "      <td>23</td>\n",
              "      <td>1</td>\n",
              "      <td>1.0</td>\n",
              "      <td>0</td>\n",
              "      <td>45961</td>\n",
              "      <td>48071</td>\n",
              "      <td>NaN</td>\n",
              "      <td>2</td>\n",
              "      <td>1</td>\n",
              "      <td>1</td>\n",
              "      <td>1</td>\n",
              "    </tr>\n",
              "    <tr>\n",
              "      <th>1</th>\n",
              "      <td>2</td>\n",
              "      <td>9.75</td>\n",
              "      <td>0.23</td>\n",
              "      <td>54</td>\n",
              "      <td>33</td>\n",
              "      <td>1</td>\n",
              "      <td>NaN</td>\n",
              "      <td>0</td>\n",
              "      <td>26106</td>\n",
              "      <td>25333</td>\n",
              "      <td>205.0</td>\n",
              "      <td>3</td>\n",
              "      <td>0</td>\n",
              "      <td>0</td>\n",
              "      <td>0</td>\n",
              "    </tr>\n",
              "    <tr>\n",
              "      <th>2</th>\n",
              "      <td>3</td>\n",
              "      <td>10.79</td>\n",
              "      <td>0.91</td>\n",
              "      <td>70</td>\n",
              "      <td>49</td>\n",
              "      <td>0</td>\n",
              "      <td>NaN</td>\n",
              "      <td>0</td>\n",
              "      <td>9995</td>\n",
              "      <td>29465</td>\n",
              "      <td>67.0</td>\n",
              "      <td>2</td>\n",
              "      <td>1</td>\n",
              "      <td>0</td>\n",
              "      <td>1</td>\n",
              "    </tr>\n",
              "    <tr>\n",
              "      <th>3</th>\n",
              "      <td>4</td>\n",
              "      <td>11.00</td>\n",
              "      <td>0.43</td>\n",
              "      <td>71</td>\n",
              "      <td>50</td>\n",
              "      <td>0</td>\n",
              "      <td>NaN</td>\n",
              "      <td>0</td>\n",
              "      <td>10635</td>\n",
              "      <td>7439</td>\n",
              "      <td>242.0</td>\n",
              "      <td>1</td>\n",
              "      <td>1</td>\n",
              "      <td>0</td>\n",
              "      <td>0</td>\n",
              "    </tr>\n",
              "    <tr>\n",
              "      <th>4</th>\n",
              "      <td>5</td>\n",
              "      <td>14.17</td>\n",
              "      <td>0.83</td>\n",
              "      <td>52</td>\n",
              "      <td>19</td>\n",
              "      <td>0</td>\n",
              "      <td>NaN</td>\n",
              "      <td>0</td>\n",
              "      <td>15619</td>\n",
              "      <td>49644</td>\n",
              "      <td>397.0</td>\n",
              "      <td>2</td>\n",
              "      <td>0</td>\n",
              "      <td>0</td>\n",
              "      <td>1</td>\n",
              "    </tr>\n",
              "  </tbody>\n",
              "</table>\n",
              "</div>"
            ],
            "text/plain": [
              "   Patient_Number  Level_of_Hemoglobin  Genetic_Pedigree_Coefficient  Age  \\\n",
              "0               1                11.28                          0.90   34   \n",
              "1               2                 9.75                          0.23   54   \n",
              "2               3                10.79                          0.91   70   \n",
              "3               4                11.00                          0.43   71   \n",
              "4               5                14.17                          0.83   52   \n",
              "\n",
              "   BMI  Sex  Pregnancy  Smoking  Physical_activity  salt_content_in_the_diet  \\\n",
              "0   23    1        1.0        0              45961                     48071   \n",
              "1   33    1        NaN        0              26106                     25333   \n",
              "2   49    0        NaN        0               9995                     29465   \n",
              "3   50    0        NaN        0              10635                      7439   \n",
              "4   19    0        NaN        0              15619                     49644   \n",
              "\n",
              "   alcohol_consumption_per_day  Level_of_Stress  Chronic_kidney_disease  \\\n",
              "0                          NaN                2                       1   \n",
              "1                        205.0                3                       0   \n",
              "2                         67.0                2                       1   \n",
              "3                        242.0                1                       1   \n",
              "4                        397.0                2                       0   \n",
              "\n",
              "   Adrenal_and_thyroid_disorders  Blood_Pressure_Abnormality  \n",
              "0                              1                           1  \n",
              "1                              0                           0  \n",
              "2                              0                           1  \n",
              "3                              0                           0  \n",
              "4                              0                           1  "
            ]
          },
          "execution_count": 4,
          "metadata": {},
          "output_type": "execute_result"
        }
      ],
      "source": [
        "# displaying first 5 rows\n",
        "df.head()"
      ]
    },
    {
      "cell_type": "code",
      "execution_count": 5,
      "metadata": {
        "colab": {
          "base_uri": "https://localhost:8080/"
        },
        "id": "_7aUYMFSbW0E",
        "outputId": "9550314e-5f9d-4735-9df6-6953af92b10d"
      },
      "outputs": [
        {
          "name": "stdout",
          "output_type": "stream",
          "text": [
            "<class 'pandas.core.frame.DataFrame'>\n",
            "RangeIndex: 2000 entries, 0 to 1999\n",
            "Data columns (total 15 columns):\n",
            " #   Column                         Non-Null Count  Dtype  \n",
            "---  ------                         --------------  -----  \n",
            " 0   Patient_Number                 2000 non-null   int64  \n",
            " 1   Level_of_Hemoglobin            2000 non-null   float64\n",
            " 2   Genetic_Pedigree_Coefficient   1908 non-null   float64\n",
            " 3   Age                            2000 non-null   int64  \n",
            " 4   BMI                            2000 non-null   int64  \n",
            " 5   Sex                            2000 non-null   int64  \n",
            " 6   Pregnancy                      442 non-null    float64\n",
            " 7   Smoking                        2000 non-null   int64  \n",
            " 8   Physical_activity              2000 non-null   int64  \n",
            " 9   salt_content_in_the_diet       2000 non-null   int64  \n",
            " 10  alcohol_consumption_per_day    1758 non-null   float64\n",
            " 11  Level_of_Stress                2000 non-null   int64  \n",
            " 12  Chronic_kidney_disease         2000 non-null   int64  \n",
            " 13  Adrenal_and_thyroid_disorders  2000 non-null   int64  \n",
            " 14  Blood_Pressure_Abnormality     2000 non-null   int64  \n",
            "dtypes: float64(4), int64(11)\n",
            "memory usage: 234.5 KB\n"
          ]
        }
      ],
      "source": [
        "# Understanding data types and number of non-null rows\n",
        "df.info()"
      ]
    },
    {
      "cell_type": "code",
      "execution_count": 6,
      "metadata": {
        "colab": {
          "base_uri": "https://localhost:8080/",
          "height": 554
        },
        "id": "D9juxTfdbfDG",
        "outputId": "24bb46a0-ca76-47f4-e180-b55cfd7c1071"
      },
      "outputs": [
        {
          "data": {
            "text/plain": [
              "Patient_Number                      0\n",
              "Level_of_Hemoglobin                 0\n",
              "Genetic_Pedigree_Coefficient       92\n",
              "Age                                 0\n",
              "BMI                                 0\n",
              "Sex                                 0\n",
              "Pregnancy                        1558\n",
              "Smoking                             0\n",
              "Physical_activity                   0\n",
              "salt_content_in_the_diet            0\n",
              "alcohol_consumption_per_day       242\n",
              "Level_of_Stress                     0\n",
              "Chronic_kidney_disease              0\n",
              "Adrenal_and_thyroid_disorders       0\n",
              "Blood_Pressure_Abnormality          0\n",
              "dtype: int64"
            ]
          },
          "execution_count": 6,
          "metadata": {},
          "output_type": "execute_result"
        }
      ],
      "source": [
        "df.isna().sum()"
      ]
    },
    {
      "cell_type": "code",
      "execution_count": 7,
      "metadata": {
        "id": "nApt3HxrA-mg"
      },
      "outputs": [],
      "source": [
        "df['Genetic_Pedigree_Coefficient'] = df['Genetic_Pedigree_Coefficient'].fillna(df['Genetic_Pedigree_Coefficient'].median())\n",
        "df['alcohol_consumption_per_day'] = df['alcohol_consumption_per_day'].fillna(df['alcohol_consumption_per_day'].mean())\n"
      ]
    },
    {
      "cell_type": "code",
      "execution_count": 8,
      "metadata": {
        "id": "tmkqg5LSbl-l"
      },
      "outputs": [],
      "source": [
        "df = df.drop('Pregnancy', axis=1)"
      ]
    },
    {
      "cell_type": "code",
      "execution_count": 9,
      "metadata": {
        "colab": {
          "base_uri": "https://localhost:8080/",
          "height": 523
        },
        "id": "UXwEPHSUbom4",
        "outputId": "c95a5b2b-c8a1-4018-e502-245f82307f35"
      },
      "outputs": [
        {
          "data": {
            "text/plain": [
              "Patient_Number                   0\n",
              "Level_of_Hemoglobin              0\n",
              "Genetic_Pedigree_Coefficient     0\n",
              "Age                              0\n",
              "BMI                              0\n",
              "Sex                              0\n",
              "Smoking                          0\n",
              "Physical_activity                0\n",
              "salt_content_in_the_diet         0\n",
              "alcohol_consumption_per_day      0\n",
              "Level_of_Stress                  0\n",
              "Chronic_kidney_disease           0\n",
              "Adrenal_and_thyroid_disorders    0\n",
              "Blood_Pressure_Abnormality       0\n",
              "dtype: int64"
            ]
          },
          "execution_count": 9,
          "metadata": {},
          "output_type": "execute_result"
        }
      ],
      "source": [
        "df.isna().sum()"
      ]
    },
    {
      "cell_type": "markdown",
      "metadata": {
        "id": "egFtEHiUBSGH"
      },
      "source": [
        "### **Splitting Data**"
      ]
    },
    {
      "cell_type": "code",
      "execution_count": 10,
      "metadata": {
        "id": "QLd_E0suBRSX"
      },
      "outputs": [],
      "source": [
        "from imblearn.over_sampling import BorderlineSMOTE\n",
        "# Split the data into features (X) and target (y)\n",
        "X = df.drop('Blood_Pressure_Abnormality', axis=1)\n",
        "y = df['Blood_Pressure_Abnormality']\n",
        "\n",
        "smote = BorderlineSMOTE(random_state = 42, kind = 'borderline-2')\n",
        "X_smote, y_smote = smote.fit_resample(X, y)\n",
        "\n",
        "# Split the data into training and test sets\n",
        "X_train, X_test, y_train, y_test = train_test_split(X, y, test_size=0.2)"
      ]
    },
    {
      "cell_type": "code",
      "execution_count": 11,
      "metadata": {
        "colab": {
          "base_uri": "https://localhost:8080/",
          "height": 467
        },
        "id": "9jC3vjzWBes2",
        "outputId": "e413926c-ca12-46e9-c686-9692178c6e09"
      },
      "outputs": [
        {
          "data": {
            "image/png": "[encoded data removed]",
            "text/plain": [
              "<Figure size 640x480 with 1 Axes>"
            ]
          },
          "metadata": {},
          "output_type": "display_data"
        }
      ],
      "source": [
        "y_smote.value_counts().plot(kind = 'bar', color = [\"#bcbddc\", \"#FF5733\"])\n",
        "plt.title(\"Blood_Pressure_Abnormality\")\n",
        "plt.show()"
      ]
    },
    {
      "cell_type": "markdown",
      "metadata": {
        "id": "qS7BdI83BoQn"
      },
      "source": [
        "# **TRAINING Random Forest Model**"
      ]
    },
    {
      "cell_type": "code",
      "execution_count": 12,
      "metadata": {
        "colab": {
          "base_uri": "https://localhost:8080/"
        },
        "id": "2SL1g4xqB2V9",
        "outputId": "ff4f80dc-aa32-444e-b6a6-d9b6bdd65d36"
      },
      "outputs": [
        {
          "name": "stdout",
          "output_type": "stream",
          "text": [
            "Random Forest Classification Results with Best Hyperparameters:\n",
            "Accuracy: 0.892\n",
            "Precision: 0.893\n",
            "Recall: 0.892\n",
            "F1-Score: 0.892\n"
          ]
        }
      ],
      "source": [
        "# Define the RandomForestClassifier with the best hyperparameters\n",
        "rf = RandomForestClassifier(bootstrap=True,max_depth=None,min_samples_leaf=2,min_samples_split=2,n_estimators=200\n",
        ")\n",
        "\n",
        "rf.fit(X_train, y_train)\n",
        "y_pred = rf.predict(X_test)\n",
        "\n",
        "# Calculate metrics\n",
        "rf_accuracy = round(accuracy_score(y_test, y_pred), 3)\n",
        "rf_precision = round(precision_score(y_test, y_pred, average='weighted'), 3)\n",
        "rf_recall = round(recall_score(y_test, y_pred, average='weighted'), 3)\n",
        "rf_f1 = round(f1_score(y_test, y_pred, average='weighted'), 3)\n",
        "\n",
        "# Printing classification results\n",
        "print(\"Random Forest Classification Results with Best Hyperparameters:\")\n",
        "print(f\"Accuracy: {rf_accuracy}\")\n",
        "print(f\"Precision: {rf_precision}\")\n",
        "print(f\"Recall: {rf_recall}\")\n",
        "print(f\"F1-Score: {rf_f1}\")\n",
        "\n",
        "# Storing results in a dict\n",
        "rf_results = {\n",
        "    'Model': 'Random Forest with Best Hyperparameters',\n",
        "    'Accuracy': rf_accuracy,\n",
        "    'Precision': rf_precision,\n",
        "    'Recall': rf_recall,\n",
        "    'F1-Score': rf_f1,\n",
        "    'Best Hyperparameters': {\n",
        "        'bootstrap': True,\n",
        "        'max_depth': None,\n",
        "        'min_samples_leaf': 2,\n",
        "        'min_samples_split': 2,\n",
        "        'n_estimators': 200\n",
        "    }\n",
        "}\n",
        "\n"
      ]
    },
    {
      "cell_type": "code",
      "execution_count": 13,
      "metadata": {
        "colab": {
          "base_uri": "https://localhost:8080/"
        },
        "id": "R6dcueEmeMaJ",
        "outputId": "4cf559e8-d558-4708-d0ec-f47974ac7282"
      },
      "outputs": [
        {
          "name": "stdout",
          "output_type": "stream",
          "text": [
            "XGBoost Classification Results with Best Hyperparameters:\n",
            "Accuracy: 0.89\n",
            "Precision: 0.89\n",
            "Recall: 0.89\n",
            "F1-Score: 0.89\n"
          ]
        }
      ],
      "source": [
        "# Define the XGBoost model with the best hyperparameters\n",
        "xgb_model = xgb.XGBClassifier(subsample=0.8,reg_lambda=0.2,reg_alpha=0.1,n_estimators=300,max_depth=7,learning_rate=0.1,gamma=0.4,colsample_bytree=1.0\n",
        ")\n",
        "\n",
        "# Fit the model to the training data\n",
        "xgb_model.fit(X_train, y_train)\n",
        "\n",
        "# Make predictions with the model\n",
        "y_pred_xgb = xgb_model.predict(X_test)\n",
        "\n",
        "# Calculate metrics\n",
        "xgb_accuracy = round(accuracy_score(y_test, y_pred_xgb), 3)\n",
        "xgb_precision = round(precision_score(y_test, y_pred_xgb, average='weighted', zero_division=1), 3)\n",
        "xgb_recall = round(recall_score(y_test, y_pred_xgb, average='weighted'), 3)\n",
        "xgb_f1 = round(f1_score(y_test, y_pred_xgb, average='weighted'), 3)\n",
        "\n",
        "# Print classification results\n",
        "print(\"XGBoost Classification Results with Best Hyperparameters:\")\n",
        "print(f\"Accuracy: {xgb_accuracy}\")\n",
        "print(f\"Precision: {xgb_precision}\")\n",
        "print(f\"Recall: {xgb_recall}\")\n",
        "print(f\"F1-Score: {xgb_f1}\")\n",
        "\n",
        "# Store results in a dictionary for later comparison\n",
        "xgb_results = {\n",
        "    'Model': 'XGBoost with Best Hyperparameters',\n",
        "    'Accuracy': xgb_accuracy,\n",
        "    'Precision': xgb_precision,\n",
        "    'Recall': xgb_recall,\n",
        "    'F1-Score': xgb_f1\n",
        "}\n"
      ]
    },
    {
      "cell_type": "code",
      "execution_count": 14,
      "metadata": {
        "colab": {
          "base_uri": "https://localhost:8080/",
          "height": 1000
        },
        "id": "jlhXgUWee5Tu",
        "outputId": "9842ef5d-4d21-43ba-bd05-d01cdf758fa0"
      },
      "outputs": [
        {
          "name": "stderr",
          "output_type": "stream",
          "text": [
            "C:\\Users\\hp\\AppData\\Local\\Temp\\ipykernel_8596\\563040153.py:6: FutureWarning: \n",
            "\n",
            "Passing `palette` without assigning `hue` is deprecated and will be removed in v0.14.0. Assign the `x` variable to `hue` and set `legend=False` for the same effect.\n",
            "\n",
            "  sns.barplot(x=metrics, y=values, palette='Blues_d')\n"
          ]
        },
        {
          "data": {
            "image/png": "[encoded data removed]",
            "text/plain": [
              "<Figure size 800x600 with 1 Axes>"
            ]
          },
          "metadata": {},
          "output_type": "display_data"
        },
        {
          "data": {
            "image/png": "[encoded data removed]",
            "text/plain": [
              "<Figure size 800x600 with 1 Axes>"
            ]
          },
          "metadata": {},
          "output_type": "display_data"
        }
      ],
      "source": [
        "# Bar plot for Accuracy, Precision, Recall, F1-Score\n",
        "metrics = ['Accuracy', 'Precision', 'Recall', 'F1-Score']\n",
        "values = [rf_accuracy, rf_precision, rf_recall, rf_f1]\n",
        "\n",
        "plt.figure(figsize=(8, 6))\n",
        "sns.barplot(x=metrics, y=values, palette='Blues_d')\n",
        "plt.title('Random Forest Performance Metrics', fontsize=14)\n",
        "plt.xlabel('Metrics', fontsize=12)\n",
        "plt.ylabel('Scores', fontsize=12)\n",
        "plt.ylim(0, 1)  # Set y-axis to be between 0 and 1\n",
        "for i, value in enumerate(values):\n",
        "    plt.text(i, value + 0.02, f'{value:.3f}', ha='center', color='black', fontweight='bold')\n",
        "plt.tight_layout()\n",
        "plt.show()\n",
        "\n",
        "# Confusion Matrix\n",
        "cm = confusion_matrix(y_test, y_pred)\n",
        "cm_df = pd.DataFrame(cm, index=np.unique(y_test), columns=np.unique(y_test))\n",
        "\n",
        "plt.figure(figsize=(8, 6))\n",
        "sns.heatmap(cm_df, annot=True, fmt=\"d\", cmap=\"Blues\", cbar=False, linewidths=1, linecolor=\"gray\",\n",
        "            xticklabels=np.unique(y_test), yticklabels=np.unique(y_test))\n",
        "plt.title('Random Forest Confusion Matrix', fontsize=14)\n",
        "plt.xlabel('Predicted Labels', fontsize=12)\n",
        "plt.ylabel('True Labels', fontsize=12)\n",
        "plt.tight_layout()\n",
        "plt.show()\n"
      ]
    },
    {
      "cell_type": "code",
      "execution_count": 15,
      "metadata": {
        "colab": {
          "base_uri": "https://localhost:8080/"
        },
        "id": "SAHGfeopfcxQ",
        "outputId": "08d7c51c-8800-44fe-8cc7-2a381311fdc7"
      },
      "outputs": [
        {
          "name": "stderr",
          "output_type": "stream",
          "text": [
            "c:\\Users\\hp\\AppData\\Local\\Programs\\Python\\Python313\\Lib\\site-packages\\sklearn\\base.py:493: UserWarning: X does not have valid feature names, but RandomForestClassifier was fitted with feature names\n",
            "  warnings.warn(\n"
          ]
        },
        {
          "name": "stdout",
          "output_type": "stream",
          "text": [
            "[1]\n",
            "[0]\n"
          ]
        },
        {
          "name": "stderr",
          "output_type": "stream",
          "text": [
            "c:\\Users\\hp\\AppData\\Local\\Programs\\Python\\Python313\\Lib\\site-packages\\sklearn\\base.py:493: UserWarning: X does not have valid feature names, but RandomForestClassifier was fitted with feature names\n",
            "  warnings.warn(\n"
          ]
        }
      ],
      "source": [
        "# prediction\n",
        "print(rf.predict([X_test.iloc[0]]))\n",
        "print(rf.predict([X_test.iloc[20]]))"
      ]
    },
    {
      "cell_type": "code",
      "execution_count": 16,
      "metadata": {
        "colab": {
          "base_uri": "https://localhost:8080/"
        },
        "id": "JbbWvYxHfgZU",
        "outputId": "ff941aa4-088f-4b2e-b845-98be66b77824"
      },
      "outputs": [
        {
          "name": "stdout",
          "output_type": "stream",
          "text": [
            "Patient_Number                     728.00\n",
            "Level_of_Hemoglobin                 14.77\n",
            "Genetic_Pedigree_Coefficient         0.20\n",
            "Age                                 34.00\n",
            "BMI                                 22.00\n",
            "Sex                                  0.00\n",
            "Smoking                              1.00\n",
            "Physical_activity                43348.00\n",
            "salt_content_in_the_diet          7153.00\n",
            "alcohol_consumption_per_day        140.00\n",
            "Level_of_Stress                      3.00\n",
            "Chronic_kidney_disease               0.00\n",
            "Adrenal_and_thyroid_disorders        1.00\n",
            "Name: 727, dtype: float64\n"
          ]
        }
      ],
      "source": [
        "print(X_test.iloc[0])"
      ]
    },
    {
      "cell_type": "code",
      "execution_count": 17,
      "metadata": {
        "colab": {
          "base_uri": "https://localhost:8080/"
        },
        "id": "joJktA3LfhP9",
        "outputId": "cd7786a5-5788-485f-9f7a-24a6e495c525"
      },
      "outputs": [
        {
          "name": "stdout",
          "output_type": "stream",
          "text": [
            "Patient_Number                    1251.00\n",
            "Level_of_Hemoglobin                 10.06\n",
            "Genetic_Pedigree_Coefficient         0.55\n",
            "Age                                 62.00\n",
            "BMI                                 37.00\n",
            "Sex                                  1.00\n",
            "Smoking                              1.00\n",
            "Physical_activity                35397.00\n",
            "salt_content_in_the_diet         43475.00\n",
            "alcohol_consumption_per_day        293.00\n",
            "Level_of_Stress                      1.00\n",
            "Chronic_kidney_disease               0.00\n",
            "Adrenal_and_thyroid_disorders        0.00\n",
            "Name: 1250, dtype: float64\n"
          ]
        }
      ],
      "source": [
        "print(X_test.iloc[20])"
      ]
    },
    {
      "cell_type": "markdown",
      "metadata": {
        "id": "Z5dWZviTgCso"
      },
      "source": [
        "### **Pickling for Deployment**"
      ]
    },
    {
      "cell_type": "code",
      "execution_count": 18,
      "metadata": {
        "id": "uJMiSkS2f7MP"
      },
      "outputs": [],
      "source": [
        "import pickle"
      ]
    },
    {
      "cell_type": "code",
      "execution_count": 19,
      "metadata": {
        "id": "x8ur6mffgIMU"
      },
      "outputs": [],
      "source": [
        "# Save the trained RandomForest model to a .pkl file\n",
        "pickle.dump(rf, open('classifyModel.pkl', 'wb'))\n"
      ]
    },
    {
      "cell_type": "code",
      "execution_count": 20,
      "metadata": {
        "id": "cQG9J3i-gK08"
      },
      "outputs": [],
      "source": [
        "pickled_model = pickle.load(open('classifyModel.pkl','rb'))"
      ]
    },
    {
      "cell_type": "code",
      "execution_count": 21,
      "metadata": {
        "colab": {
          "base_uri": "https://localhost:8080/"
        },
        "id": "54V6i1HFgLlg",
        "outputId": "a8c3cbb0-dce9-4e15-9239-f59a5edb6cee"
      },
      "outputs": [
        {
          "name": "stdout",
          "output_type": "stream",
          "text": [
            "[1]\n"
          ]
        },
        {
          "name": "stderr",
          "output_type": "stream",
          "text": [
            "c:\\Users\\hp\\AppData\\Local\\Programs\\Python\\Python313\\Lib\\site-packages\\sklearn\\base.py:493: UserWarning: X does not have valid feature names, but RandomForestClassifier was fitted with feature names\n",
            "  warnings.warn(\n"
          ]
        }
      ],
      "source": [
        "print(pickled_model.predict([X_test.iloc[0]]))"
      ]
    },
    {
      "cell_type": "code",
      "execution_count": null,
      "metadata": {
        "id": "E_RNFObmgNyb"
      },
      "outputs": [],
      "source": []
    }
  ],
  "metadata": {
    "colab": {
      "provenance": []
    },
    "kernelspec": {
      "display_name": "Python 3",
      "name": "python3"
    },
    "language_info": {
      "codemirror_mode": {
        "name": "ipython",
        "version": 3
      },
      "file_extension": ".py",
      "mimetype": "text/x-python",
      "name": "python",
      "nbconvert_exporter": "python",
      "pygments_lexer": "ipython3",
      "version": "3.13.0"
    }
  },
  "nbformat": 4,
  "nbformat_minor": 0
}
